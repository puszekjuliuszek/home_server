{
 "cells": [
  {
   "cell_type": "code",
   "execution_count": 3,
   "id": "4a4022d5",
   "metadata": {},
   "outputs": [],
   "source": [
    "import os\n",
    "import sys\n",
    "import numpy as np\n",
    "# import matplotlib.pyplot as plt\n",
    "import cv2\n",
    "import matplotlib.image\n",
    "\n",
    "\n",
    "\n"
   ]
  },
  {
   "cell_type": "code",
   "execution_count": 6,
   "id": "2ad404b5",
   "metadata": {},
   "outputs": [],
   "source": [
    "directory = 'D:\\\\Prywatne\\\\jul\\\\python_projekty\\\\home_server\\\\photo\\\\framing'\n",
    "files_list = os.listdir(directory)\n",
    "for file in files_list:\n",
    "    size = 3200\n",
    "    img = cv2.imread(os.path.join(directory, file))\n",
    "    img = cv2.cvtColor(img, cv2.COLOR_RGB2BGR)\n",
    "    h,w, _ = img.shape\n",
    "    back = np.ones((size, size, 3), dtype=np.uint8) * 255\n",
    "    back[(size-img.shape[0])//2:(size+img.shape[0])//2, (size-img.shape[1])//2:(size+img.shape[1])//2] = img\n",
    "    # back = np.full((3200,3200),255)\n",
    "    # back[] = img\n",
    "#         plt.gray()\n",
    "#         plt.imshow(back)\n",
    "#         print(file, img.shape)\n",
    "    matplotlib.image.imsave(f\"{file.split('.')[0]}.png\", back)"
   ]
  },
  {
   "cell_type": "code",
   "execution_count": null,
   "id": "f2ff1040",
   "metadata": {},
   "outputs": [],
   "source": []
  }
 ],
 "metadata": {
  "kernelspec": {
   "display_name": "Python 3 (ipykernel)",
   "language": "python",
   "name": "python3"
  },
  "language_info": {
   "codemirror_mode": {
    "name": "ipython",
    "version": 3
   },
   "file_extension": ".py",
   "mimetype": "text/x-python",
   "name": "python",
   "nbconvert_exporter": "python",
   "pygments_lexer": "ipython3",
   "version": "3.11.5"
  }
 },
 "nbformat": 4,
 "nbformat_minor": 5
}
